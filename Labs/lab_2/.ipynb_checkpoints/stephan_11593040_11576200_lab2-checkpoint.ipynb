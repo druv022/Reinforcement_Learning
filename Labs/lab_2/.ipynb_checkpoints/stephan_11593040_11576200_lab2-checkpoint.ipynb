{
 "cells": [
  {
   "cell_type": "markdown",
   "metadata": {},
   "source": [
    "Parts of this assignment will be **automatically graded**. Please take note of the following:\n",
    "- Before you turn this problem in, make sure everything runs as expected. First, **restart the kernel** (in the menubar, select Kernel$\\rightarrow$Restart) and then **run all cells** (in the menubar, select Cell$\\rightarrow$Run All).\n",
    "- You can add additional cells, but it is not recommended to (re)move cells. Cells required for autograding cannot be moved and cells containing tests cannot be edited.\n",
    "- You are allowed to use a service such as [Google Colaboratory](https://colab.research.google.com/) to work together. However, you **cannot** hand in the notebook that was hosted on Google Colaboratory, but you need to copy your answers into the original notebook and verify that it runs succesfully offline. This is because Google Colaboratory destroys the metadata required for grading.\n",
    "- Name your notebook **exactly** `{TA_name}_{student1_id}_{student2_id}_lab{i}.ipynb`, for example `wouter_12345_67890_lab1.ipynb` (or elise or stephan, depending on your TA), **otherwise your submission will be skipped by our regex and you will get 0 points** (but no penalty as we cannot parse your student ids ;)).\n",
    "\n",
    "Make sure you fill in any place that says `YOUR CODE HERE` or \"YOUR ANSWER HERE\", as well as your names below:"
   ]
  },
  {
   "cell_type": "code",
   "execution_count": 15,
   "metadata": {},
   "outputs": [],
   "source": [
    "NAMES = \"Tarun Krishna, Dhruba Pujary\""
   ]
  },
  {
   "cell_type": "markdown",
   "metadata": {},
   "source": [
    "---"
   ]
  },
  {
   "cell_type": "code",
   "execution_count": 16,
   "metadata": {
    "deletable": false,
    "editable": false,
    "nbgrader": {
     "checksum": "931b3dfcc3a02b92b499929fb27299cb",
     "grade": false,
     "grade_id": "cell-fc69f22067705372",
     "locked": true,
     "schema_version": 1,
     "solution": false
    }
   },
   "outputs": [],
   "source": [
    "%matplotlib inline\n",
    "import os\n",
    "import numpy as np\n",
    "import matplotlib.pyplot as plt\n",
    "import sys\n",
    "import torch\n",
    "from torch import nn\n",
    "import torch.nn.functional as F\n",
    "from torch import optim\n",
    "from tqdm import tqdm as _tqdm\n",
    "\n",
    "def tqdm(*args, **kwargs):\n",
    "    return _tqdm(*args, **kwargs, mininterval=1)  # Safety, do not overflow buffer\n",
    "\n",
    "EPS = float(np.finfo(np.float32).eps)\n",
    "\n",
    "assert sys.version_info[:3] >= (3, 6, 0), \"Make sure you have Python 3.6 installed!\""
   ]
  },
  {
   "cell_type": "code",
   "execution_count": 17,
   "metadata": {},
   "outputs": [
    {
     "data": {
      "application/javascript": [
       "IPython.notebook.set_autosave_interval(20000)"
      ]
     },
     "metadata": {},
     "output_type": "display_data"
    },
    {
     "name": "stdout",
     "output_type": "stream",
     "text": [
      "Autosaving every 20 seconds\n"
     ]
    }
   ],
   "source": [
    "%autosave 20\n",
    "seed =42\n",
    "np.random.seed(seed)"
   ]
  },
  {
   "cell_type": "markdown",
   "metadata": {
    "deletable": false,
    "editable": false,
    "nbgrader": {
     "checksum": "e83ecfc2751cf2e6ff05d0c01d311673",
     "grade": false,
     "grade_id": "cell-fef7e20e54e6243b",
     "locked": true,
     "schema_version": 1,
     "solution": false
    }
   },
   "source": [
    "---\n",
    "## 1. Deep Q-Network (DQN) (10 (+ 2 bonus) points)"
   ]
  },
  {
   "cell_type": "code",
   "execution_count": 18,
   "metadata": {
    "deletable": false,
    "editable": false,
    "nbgrader": {
     "checksum": "e27fe8f72a248bbcf1f7a21e5550e657",
     "grade": true,
     "grade_id": "cell-39519f4ab05eb2a1",
     "locked": true,
     "points": 0,
     "schema_version": 1,
     "solution": false
    }
   },
   "outputs": [],
   "source": [
    "import gym\n",
    "env = gym.envs.make(\"CartPole-v0\")"
   ]
  },
  {
   "cell_type": "code",
   "execution_count": 19,
   "metadata": {},
   "outputs": [],
   "source": [
    "# env is a TimeLimit wrapper around an env, so use env.env to look into the env (but otherwise you can forget about this)\n",
    "??env.env"
   ]
  },
  {
   "cell_type": "code",
   "execution_count": 20,
   "metadata": {},
   "outputs": [],
   "source": [
    "import time\n",
    "# The nice thing about the CARTPOLE is that it has very nice rendering functionality (if you are on a local environment). Let's have a look at an episode\n",
    "obs = env.reset()\n",
    "env.render()\n",
    "done = False\n",
    "while not done:\n",
    "    obs, reward, done, _ = env.step(env.action_space.sample())\n",
    "    env.render()\n",
    "    time.sleep(0.05)\n",
    "env.close()  # Close the environment or you will have a lot of render screens soon"
   ]
  },
  {
   "cell_type": "markdown",
   "metadata": {
    "deletable": false,
    "editable": false,
    "nbgrader": {
     "checksum": "11a9c014ee5fbe790ce999428cc22658",
     "grade": false,
     "grade_id": "cell-2d83f70e62b99520",
     "locked": true,
     "schema_version": 1,
     "solution": false
    }
   },
   "source": [
    "Remember from the previous lab, that in order to optimize a policy we need to estimate the Q-values (e.g. estimate the *action* values). In the CartPole problem, our state is current position of the cart, the current velocity of the cart, the current (angular) position of the pole and the (angular) speed of the pole. As these are continuous variables, we have an infinite number of states (ignoring the fact that a digital computer can only represent finitely many states in finite memory)."
   ]
  },
  {
   "cell_type": "markdown",
   "metadata": {
    "deletable": false,
    "editable": false,
    "nbgrader": {
     "checksum": "9692b7acb09d018d9f80ce95685b81d5",
     "grade": false,
     "grade_id": "cell-bf2ac21267daffbb",
     "locked": true,
     "schema_version": 1,
     "solution": false
    }
   },
   "source": [
    "Can you think of a way in which we can still use a tabular approach? Why would this work and can you think of an example problem where this would not work?"
   ]
  },
  {
   "cell_type": "markdown",
   "metadata": {
    "deletable": false,
    "nbgrader": {
     "checksum": "3ffce6fca4071a1b543186db1b74cc98",
     "grade": true,
     "grade_id": "cell-b0fa2cb0c2cd2a63",
     "locked": false,
     "points": 1,
     "schema_version": 1,
     "solution": true
    }
   },
   "source": [
    "YOUR ANSWER HERE\n",
    "\n",
    "We can use state aggregation methods to use a tabular approach. This will work as long as the quantization is descriptive and distinct enough to represent the unique properties of the state  in the continuous space in discrete quantities. The cart pole example can be discretize to some extent where we can consider very near values of state to be same, for example if we are learning directly from the image (pixels). An example where such quantization will not work will be problem where there are too many states, or may have interdependency. For example, if we try to use tabular methods for controlling a autonomous drone, the number of possible quantized states will be too large to be of any real use.  "
   ]
  },
  {
   "cell_type": "markdown",
   "metadata": {
    "deletable": false,
    "editable": false,
    "nbgrader": {
     "checksum": "cd66b44d93f348df1e0ef8353377c879",
     "grade": false,
     "grade_id": "cell-0b3162496f5e6cf5",
     "locked": true,
     "schema_version": 1,
     "solution": false
    }
   },
   "source": [
    "### 1.1 Implement Q-Network"
   ]
  },
  {
   "cell_type": "markdown",
   "metadata": {
    "deletable": false,
    "editable": false,
    "nbgrader": {
     "checksum": "84b9c38718c952ef8e62486fc9bf5e4a",
     "grade": false,
     "grade_id": "cell-96a86bcfa1ebc84a",
     "locked": true,
     "schema_version": 1,
     "solution": false
    }
   },
   "source": [
    "We will not use the tabular approach but approximate the Q-value function by a general approximator function. We will skip the linear case and directly use a two layer Neural Network. We use [PyTorch](https://pytorch.org/) to implement the network, as this will allow us to train it easily later. We can implement a model using `torch.nn.Sequential`, but with PyTorch it is actually very easy to implement the model (e.g. the forward pass) from scratch. Now implement the `QNetwork.forward` function that uses one hidden layer with ReLU activation (no output activation)."
   ]
  },
  {
   "cell_type": "code",
   "execution_count": 21,
   "metadata": {
    "deletable": false,
    "nbgrader": {
     "checksum": "4ef7d14363dc2aa4beb638856c57a58c",
     "grade": false,
     "grade_id": "cell-216429a5dccf8a0e",
     "locked": false,
     "schema_version": 1,
     "solution": true
    }
   },
   "outputs": [],
   "source": [
    "class QNetwork(nn.Module):\n",
    "    \n",
    "    def __init__(self, num_hidden=128):\n",
    "        nn.Module.__init__(self)\n",
    "        self.l1 = nn.Linear(4, num_hidden)\n",
    "        self.l2 = nn.Linear(num_hidden, 2)\n",
    "        self.relu = nn.ReLU()\n",
    "\n",
    "    def forward(self, x):\n",
    "        # YOUR CODE HERE\n",
    "        x = self.l1(x)\n",
    "        x = self.relu(x)\n",
    "        x = self.l2(x)\n",
    "        \n",
    "        return x"
   ]
  },
  {
   "cell_type": "code",
   "execution_count": 22,
   "metadata": {
    "deletable": false,
    "editable": false,
    "nbgrader": {
     "checksum": "2b9a48f9aee9ebc46da01c6f11cd789a",
     "grade": true,
     "grade_id": "cell-00ce108d640a5942",
     "locked": true,
     "points": 1,
     "schema_version": 1,
     "solution": false
    }
   },
   "outputs": [],
   "source": [
    "# Let's instantiate and test if it works\n",
    "num_hidden = 128\n",
    "torch.manual_seed(1234)\n",
    "model = QNetwork(num_hidden)\n",
    "\n",
    "torch.manual_seed(1234)\n",
    "test_model = nn.Sequential(\n",
    "    nn.Linear(4, num_hidden), \n",
    "    nn.ReLU(), \n",
    "    nn.Linear(num_hidden, 2)\n",
    ")\n",
    "\n",
    "x = torch.rand(10, 4)\n",
    "\n",
    "# If you do not need backpropagation, wrap the computation in the torch.no_grad() context\n",
    "# This saves time and memory, and PyTorch complaints when converting to numpy\n",
    "with torch.no_grad():\n",
    "    assert np.allclose(model(x).numpy(), test_model(x).numpy())"
   ]
  },
  {
   "cell_type": "markdown",
   "metadata": {
    "deletable": false,
    "editable": false,
    "nbgrader": {
     "checksum": "7fc82889691dbd60ff9469b770744fcc",
     "grade": false,
     "grade_id": "cell-ca77eae2e62180cf",
     "locked": true,
     "schema_version": 1,
     "solution": false
    }
   },
   "source": [
    "### 1.2 Experience Replay"
   ]
  },
  {
   "cell_type": "markdown",
   "metadata": {
    "deletable": false,
    "editable": false,
    "nbgrader": {
     "checksum": "5b3265bef151a12fe6969c378af76be2",
     "grade": false,
     "grade_id": "cell-b5b012e42dd2029e",
     "locked": true,
     "schema_version": 1,
     "solution": false
    }
   },
   "source": [
    "What could be a problem with doing gradient updates on a sequence of state, action pairs $((s_t, a_t), (s_{t+1}, a_{t+1}) ...)$ observed while interacting with the environment? How will using *experience replay* help to overcome this (potential problem)?"
   ]
  },
  {
   "cell_type": "markdown",
   "metadata": {
    "deletable": false,
    "nbgrader": {
     "checksum": "75e1a8b00b2bfa9b7dd8805b371c6a4e",
     "grade": true,
     "grade_id": "cell-70a2e59541668a25",
     "locked": false,
     "points": 1,
     "schema_version": 1,
     "solution": true
    }
   },
   "source": [
    "YOUR ANSWER HERE\n",
    "\n",
    "Stochastic gradient descent works best with independent and identically distributed samples. But in reinforcement learning, we receive sequential samples from interactions with the environment.\n",
    "That causes the networks to see too many samples of one kind and forget the others. For example, the agent might reach the second level of a game. It looks or behaves totally different, so it forgets how to play the first level.\n",
    "\n",
    "Storing all experience in a replay buffer allows us to train on more independent samples. We just draw a batch of transitions from the buffer at random and train on that. This helps break the temporal correlation of training samples"
   ]
  },
  {
   "cell_type": "markdown",
   "metadata": {
    "deletable": false,
    "editable": false,
    "nbgrader": {
     "checksum": "9b3bbd8aaf3aade515736d0d07917a61",
     "grade": false,
     "grade_id": "cell-2c1d117a1a75fd69",
     "locked": true,
     "schema_version": 1,
     "solution": false
    }
   },
   "source": [
    "Now implement the `push` function that adds a transition to the replay buffer, and the sample function that returns a batch of samples. It should keep at most the maximum number of transitions. Also implement the `sample` function that samples a (random!) batch of data, for use during training (hint: you can use the function `random.sample`)."
   ]
  },
  {
   "cell_type": "code",
   "execution_count": 23,
   "metadata": {
    "deletable": false,
    "nbgrader": {
     "checksum": "93a9f55f3950fe63b44aa84c5fd7f793",
     "grade": false,
     "grade_id": "cell-a3cc876e51eb157f",
     "locked": false,
     "schema_version": 1,
     "solution": true
    }
   },
   "outputs": [],
   "source": [
    "import random\n",
    "class ReplayMemory:\n",
    "    \n",
    "    def __init__(self, capacity):\n",
    "        self.capacity = capacity\n",
    "        self.memory = []\n",
    "\n",
    "    def push(self, transition):\n",
    "        if len(self.memory) < self.capacity:\n",
    "            self.memory.append(transition)\n",
    "\n",
    "    def sample(self, batch_size):       \n",
    "        return random.sample(self.memory, batch_size)\n",
    "\n",
    "    def __len__(self):\n",
    "        return len(self.memory)"
   ]
  },
  {
   "cell_type": "code",
   "execution_count": 24,
   "metadata": {
    "deletable": false,
    "editable": false,
    "nbgrader": {
     "checksum": "6865749b3a8810bdaaf1604a9cea42e7",
     "grade": true,
     "grade_id": "cell-3b90135921c4da76",
     "locked": true,
     "points": 1,
     "schema_version": 1,
     "solution": false
    }
   },
   "outputs": [
    {
     "name": "stdout",
     "output_type": "stream",
     "text": [
      "[(array([-0.02540787,  0.00035681,  0.02317863,  0.03528998]), 1, 1.0, array([-0.02540073,  0.19513883,  0.02388443, -0.24999067]), False)]\n"
     ]
    }
   ],
   "source": [
    "capacity = 10\n",
    "memory = ReplayMemory(capacity)\n",
    "\n",
    "# Sample a transition\n",
    "s = env.reset()\n",
    "a = env.action_space.sample()\n",
    "s_next, r, done, _ = env.step(a)\n",
    "\n",
    "# Push a transition\n",
    "memory.push((s, a, r, s_next, done))\n",
    "\n",
    "# Sample a batch size of 1\n",
    "print(memory.sample(1))\n"
   ]
  },
  {
   "cell_type": "markdown",
   "metadata": {
    "deletable": false,
    "editable": false,
    "nbgrader": {
     "checksum": "3c742d499c0f9b7f10d1c0c3a085236a",
     "grade": false,
     "grade_id": "cell-88f67e3c051da6a9",
     "locked": true,
     "schema_version": 1,
     "solution": false
    }
   },
   "source": [
    "### 1.3 $\\epsilon$psilon greedy policy"
   ]
  },
  {
   "cell_type": "markdown",
   "metadata": {
    "deletable": false,
    "editable": false,
    "nbgrader": {
     "checksum": "61d26d0dec0133f2aa737ed4711d6e08",
     "grade": false,
     "grade_id": "cell-aa3c7d1b3000f697",
     "locked": true,
     "schema_version": 1,
     "solution": false
    }
   },
   "source": [
    "In order to learn a good policy, we need to explore quite a bit initially. As we start to learn a good policy, we want to decrease the exploration. As the amount of exploration using an $\\epsilon$-greedy policy is controlled by $\\epsilon$, we can define an 'exploration scheme' by writing $\\epsilon$ as a function of time. There are many possible schemes, but we will use a simple one: we will start with only exploring (so taking random actions) at iteration 0, and then in 1000 iterations linearly anneal $\\epsilon$ such that after 1000 iterations we take random (exploration) actions with 5\\% probability (forever, as you never know if the environment will change)."
   ]
  },
  {
   "cell_type": "code",
   "execution_count": 25,
   "metadata": {
    "deletable": false,
    "nbgrader": {
     "checksum": "270ab31d4bb29dc9a05223c16a4967a7",
     "grade": false,
     "grade_id": "cell-5789e7a792108576",
     "locked": false,
     "schema_version": 1,
     "solution": true
    }
   },
   "outputs": [],
   "source": [
    "def get_epsilon(it):\n",
    "    # YOUR CODE HERE\n",
    "    if it < 1000:\n",
    "        return -9.5*1e-4*it+1\n",
    "    else:\n",
    "        return 0.05\n",
    "        "
   ]
  },
  {
   "cell_type": "code",
   "execution_count": 26,
   "metadata": {
    "deletable": false,
    "editable": false,
    "nbgrader": {
     "checksum": "b1a81dd07e1b7a98d2cd06ebc171ebdd",
     "grade": true,
     "grade_id": "cell-40e66db45e742b2e",
     "locked": true,
     "points": 1,
     "schema_version": 1,
     "solution": false
    }
   },
   "outputs": [
    {
     "data": {
      "text/plain": [
       "[<matplotlib.lines.Line2D at 0x7f307292bb38>]"
      ]
     },
     "execution_count": 26,
     "metadata": {},
     "output_type": "execute_result"
    },
    {
     "data": {
      "image/png": "[encoded data removed]",
      "text/plain": [
       "<Figure size 432x288 with 1 Axes>"
      ]
     },
     "metadata": {},
     "output_type": "display_data"
    }
   ],
   "source": [
    "# So what's an easy way to check?\n",
    "plt.plot([get_epsilon(it) for it in range(5000)])\n"
   ]
  },
  {
   "cell_type": "markdown",
   "metadata": {
    "deletable": false,
    "editable": false,
    "nbgrader": {
     "checksum": "84685c23e4eb899d7fed3a87b7f8915e",
     "grade": false,
     "grade_id": "cell-a8b604c9998c6c3b",
     "locked": true,
     "schema_version": 1,
     "solution": false
    }
   },
   "source": [
    "Now write a function that takes a state and uses the Q-network to select an ($\\epsilon$-greedy) action. It should return a random action with probability epsilon (which we will pass later). Note, you do not need to backpropagate through the model computations, so use `with torch.no_grad():` (see above for example). Unlike numpy, PyTorch has no argmax function, but Google is your friend... Note that to convert a PyTorch tensor with only 1 element (0 dimensional) to a simple python scalar (int or float), you can use the '.item()' function."
   ]
  },
  {
   "cell_type": "code",
   "execution_count": 27,
   "metadata": {
    "deletable": false,
    "nbgrader": {
     "checksum": "882f51819100c850120e73340aec387d",
     "grade": false,
     "grade_id": "cell-878ad3a637cfb51c",
     "locked": false,
     "schema_version": 1,
     "solution": true
    }
   },
   "outputs": [],
   "source": [
    "def select_action(model, state, epsilon):\n",
    "    # YOUR CODE HERE\n",
    "    state = torch.from_numpy(state).float()\n",
    "    with torch.no_grad():\n",
    "        actions = model(state)\n",
    "        \n",
    "        rand_num = np.random.uniform(0,1,1)\n",
    "        if epsilon > rand_num:\n",
    "            index = torch.randint(0,len(actions),(1,1))\n",
    "        else:\n",
    "            value, index = actions.max(0)\n",
    "            \n",
    "        return int(index.item())"
   ]
  },
  {
   "cell_type": "code",
   "execution_count": 28,
   "metadata": {
    "deletable": false,
    "editable": false,
    "nbgrader": {
     "checksum": "21f939075cb0c8dde152dabf47568a9d",
     "grade": true,
     "grade_id": "cell-e895338d56bee477",
     "locked": true,
     "points": 1,
     "schema_version": 1,
     "solution": false
    }
   },
   "outputs": [
    {
     "name": "stdout",
     "output_type": "stream",
     "text": [
      "1\n"
     ]
    }
   ],
   "source": [
    "s = env.reset()\n",
    "a = select_action(model, s, 0.05)\n",
    "assert not torch.is_tensor(a)\n",
    "print (a)\n"
   ]
  },
  {
   "cell_type": "markdown",
   "metadata": {
    "deletable": false,
    "editable": false,
    "nbgrader": {
     "checksum": "5d00ab2e5e0b39257771d0e778fda2d6",
     "grade": false,
     "grade_id": "cell-ec5e94e0b03f8aec",
     "locked": true,
     "schema_version": 1,
     "solution": false
    }
   },
   "source": [
    "### 1.4 Training function"
   ]
  },
  {
   "cell_type": "markdown",
   "metadata": {
    "deletable": false,
    "editable": false,
    "nbgrader": {
     "checksum": "4839aac72a80552046ebecc40c1615cf",
     "grade": false,
     "grade_id": "cell-d1a12cc97386fe56",
     "locked": true,
     "schema_version": 1,
     "solution": false
    }
   },
   "source": [
    "Now we will implement the function 'train' that samples a batch from the memory and performs a gradient step using some convenient PyTorch functionality. However, you still need to compute the Q-values for the (state, action) pairs in the experience, as well as their target (e.g. the value they should move towards). What is the target for a Q-learning update? What should be the target if `next_state` is terminal (e.g. `done`)?\n",
    "\n",
    "For computing the Q-values for the actions, note that the model returns all action values where you are only interested in a single action value. Because of the batch dimension, you can't use simple indexing, but you may want to have a look at [torch.gather](https://pytorch.org/docs/stable/torch.html?highlight=gather#torch.gather) or use [advanced indexing](https://docs.scipy.org/doc/numpy-1.13.0/reference/arrays.indexing.html) (numpy tutorial but works mostly the same in PyTorch). Note, you should NOT modify the function train. You can view the size of a tensor `x` with `x.size()` (similar to `x.shape` in numpy)."
   ]
  },
  {
   "cell_type": "code",
   "execution_count": 29,
   "metadata": {
    "deletable": false,
    "nbgrader": {
     "checksum": "c466ee49add35cb1ec6a3e4a85f733c9",
     "grade": false,
     "grade_id": "cell-6c45485324b40081",
     "locked": false,
     "schema_version": 1,
     "solution": true
    }
   },
   "outputs": [],
   "source": [
    "def compute_q_val(model, state, action):\n",
    "    # YOUR CODE HERE\n",
    "    actions = model(state)\n",
    "    return actions.gather(1, action.unsqueeze(1))\n",
    "\n",
    "def compute_target(model, reward, next_state, done, discount_factor):\n",
    "    # done is a boolean (vector) that indicates if next_state is terminal (episode is done)\n",
    "    # YOUR CODE HERE\n",
    "    non_terminal_states_mask = torch.tensor([1 if not s else 0 for s in done])\n",
    "    non_terminal_states = next_state[non_terminal_states_mask.nonzero().squeeze(1)]\n",
    "    \n",
    "    next_state_values = torch.zeros(done.size()[0])\n",
    "    next_state_values[non_terminal_states_mask.nonzero().squeeze(1)],_ = model(non_terminal_states).max(1)\n",
    "    \n",
    "    target = reward + discount_factor*next_state_values\n",
    "    \n",
    "    return target.unsqueeze(1)\n",
    "\n",
    "def train(model, memory, optimizer, batch_size, discount_factor):\n",
    "    # DO NOT MODIFY THIS FUNCTION\n",
    "    \n",
    "    # don't learn without some decent experience\n",
    "    if len(memory) < batch_size:\n",
    "        return None\n",
    "\n",
    "    # random transition batch is taken from experience replay memory\n",
    "    transitions = memory.sample(batch_size)\n",
    "    \n",
    "    # transition is a list of 4-tuples, instead we want 4 vectors (as torch.Tensor's)\n",
    "    state, action, reward, next_state, done = zip(*transitions)\n",
    "    \n",
    "    # convert to PyTorch and define types\n",
    "    state = torch.tensor(state, dtype=torch.float)\n",
    "    action = torch.tensor(action, dtype=torch.int64)  # Need 64 bit to use them as index\n",
    "    next_state = torch.tensor(next_state, dtype=torch.float)\n",
    "    reward = torch.tensor(reward, dtype=torch.float)\n",
    "    done = torch.tensor(done, dtype=torch.uint8)  # Boolean\n",
    "    \n",
    "    # compute the q value\n",
    "    q_val = compute_q_val(model, state, action)\n",
    "    \n",
    "    with torch.no_grad():  # Don't compute gradient info for the target (semi-gradient)\n",
    "        target = compute_target(model, reward, next_state, done, discount_factor)\n",
    "    \n",
    "    # loss is measured from error between current and newly expected Q values\n",
    "    loss = F.smooth_l1_loss(q_val, target)\n",
    "\n",
    "    # backpropagation of loss to Neural Network (PyTorch magic)\n",
    "    optimizer.zero_grad()\n",
    "    loss.backward()\n",
    "    optimizer.step()\n",
    "    \n",
    "    return loss.item()  # Returns a Python scalar, and releases history (similar to .detach())"
   ]
  },
  {
   "cell_type": "code",
   "execution_count": 30,
   "metadata": {
    "deletable": false,
    "editable": false,
    "nbgrader": {
     "checksum": "877c400001292b619e6871c1366524b9",
     "grade": true,
     "grade_id": "cell-b060b822eec4282f",
     "locked": true,
     "points": 2,
     "schema_version": 1,
     "solution": false
    }
   },
   "outputs": [
    {
     "name": "stdout",
     "output_type": "stream",
     "text": [
      "0.5230025053024292\n"
     ]
    }
   ],
   "source": [
    "# You may want to test your functions individually, but after you do so lets see if the method train works.\n",
    "batch_size = 64\n",
    "discount_factor = 0.8\n",
    "learn_rate = 1e-3\n",
    "# Simple gradient descent may take long, so we will use Adam\n",
    "optimizer = optim.Adam(model.parameters(), learn_rate)\n",
    "\n",
    "# We need a larger memory, fill with dummy data\n",
    "transition = memory.sample(1)[0]\n",
    "memory = ReplayMemory(10 * batch_size)\n",
    "for i in range(batch_size):\n",
    "    memory.push(transition)\n",
    "\n",
    "# Now let's see if it works\n",
    "loss = train(model, memory, optimizer, batch_size, discount_factor)\n",
    "\n",
    "print (loss)\n"
   ]
  },
  {
   "cell_type": "markdown",
   "metadata": {
    "deletable": false,
    "editable": false,
    "nbgrader": {
     "checksum": "2057dee580a43fb0442fe52557c0ac64",
     "grade": false,
     "grade_id": "cell-3eafd0ab49103f3b",
     "locked": true,
     "schema_version": 1,
     "solution": false
    }
   },
   "source": [
    "### 1.5 Put it all together"
   ]
  },
  {
   "cell_type": "markdown",
   "metadata": {
    "deletable": false,
    "editable": false,
    "nbgrader": {
     "checksum": "06dd71aae5c3c699f2b707b348a88107",
     "grade": false,
     "grade_id": "cell-36b8a04b393d8104",
     "locked": true,
     "schema_version": 1,
     "solution": false
    }
   },
   "source": [
    "Now that you have implemented the training step, you should be able to put everything together. Implement the function `run_episodes` that runs a number of episodes of DQN training. It should return the durations (e.g. number of steps) of each episode. Note: we pass the train function as an argument such that we can swap it for a different training step later."
   ]
  },
  {
   "cell_type": "code",
   "execution_count": 31,
   "metadata": {
    "deletable": false,
    "nbgrader": {
     "checksum": "c3f61b2ca270d84ab9b28d989dd65d4c",
     "grade": false,
     "grade_id": "cell-540a7d50ecc1d046",
     "locked": false,
     "schema_version": 1,
     "solution": true
    }
   },
   "outputs": [],
   "source": [
    "def run_episodes(train, model, memory, env, num_episodes, batch_size, discount_factor, learn_rate):\n",
    "    \n",
    "    optimizer = optim.Adam(model.parameters(), learn_rate)\n",
    "    \n",
    "    global_steps = 0  # Count the steps (do not reset at episode start, to compute epsilon)\n",
    "    episode_durations = []  #\n",
    "    for i in range(num_episodes):\n",
    "        # YOUR CODE HERE\n",
    "        # Sample a transition\n",
    "        s = env.reset()\n",
    "        done = False\n",
    "        epi_duration = 0\n",
    "        while not done:\n",
    "            eps = get_epsilon(global_steps)\n",
    "            a = select_action(model, s, eps)\n",
    "            s_next, r, done, _ = env.step(a)\n",
    "\n",
    "            memory.push((s, a, r, s_next, done))\n",
    "            loss = train(model, memory, optimizer, batch_size, discount_factor)\n",
    "\n",
    "            s = s_next\n",
    "            epi_duration += 1\n",
    "            global_steps +=1\n",
    "\n",
    "        episode_durations.append(epi_duration)\n",
    "        \n",
    "    return episode_durations"
   ]
  },
  {
   "cell_type": "code",
   "execution_count": 32,
   "metadata": {},
   "outputs": [],
   "source": [
    "# Let's run it!\n",
    "num_episodes = 100\n",
    "batch_size = 64\n",
    "discount_factor = 0.8\n",
    "learn_rate = 1e-3\n",
    "memory = ReplayMemory(10000)\n",
    "num_hidden = 128\n",
    "seed = 42  # This is not randomly chosen\n",
    "\n",
    "# We will seed the algorithm (before initializing QNetwork!) for reproducability\n",
    "random.seed(seed)\n",
    "torch.manual_seed(seed)\n",
    "env.seed(seed)\n",
    "\n",
    "model = QNetwork(num_hidden)\n",
    "\n",
    "episode_durations = run_episodes(train, model, memory, env, num_episodes, batch_size, discount_factor, learn_rate)"
   ]
  },
  {
   "cell_type": "code",
   "execution_count": 33,
   "metadata": {
    "deletable": false,
    "editable": false,
    "nbgrader": {
     "checksum": "70d16eb61eae34605e8d7813a70a604a",
     "grade": true,
     "grade_id": "cell-928ecc11ed5c43d8",
     "locked": true,
     "points": 2,
     "schema_version": 1,
     "solution": false
    }
   },
   "outputs": [
    {
     "data": {
      "text/plain": [
       "Text(0.5,1,'Episode durations per episode')"
      ]
     },
     "execution_count": 33,
     "metadata": {},
     "output_type": "execute_result"
    },
    {
     "data": {
      "image/png": "[encoded data removed]",
      "text/plain": [
       "<Figure size 432x288 with 1 Axes>"
      ]
     },
     "metadata": {},
     "output_type": "display_data"
    }
   ],
   "source": [
    "# And see the results\n",
    "def smooth(x, N):\n",
    "    cumsum = np.cumsum(np.insert(x, 0, 0)) \n",
    "    return (cumsum[N:] - cumsum[:-N]) / float(N)\n",
    "\n",
    "plt.plot(smooth(episode_durations, 10))\n",
    "plt.title('Episode durations per episode')\n"
   ]
  },
  {
   "cell_type": "markdown",
   "metadata": {
    "deletable": false,
    "editable": false,
    "nbgrader": {
     "checksum": "1e106dba734da10d4d8b3bf90d6bb772",
     "grade": false,
     "grade_id": "cell-49e6bf74834a67ef",
     "locked": true,
     "schema_version": 1,
     "solution": false
    }
   },
   "source": [
    "### 1.6 Semi-gradient vs. true gradient (bonus)"
   ]
  },
  {
   "cell_type": "markdown",
   "metadata": {
    "deletable": false,
    "editable": false,
    "nbgrader": {
     "checksum": "acf155c686f3916453a3d11d95994987",
     "grade": false,
     "grade_id": "cell-fc30be2a6983bc77",
     "locked": true,
     "schema_version": 1,
     "solution": false
    }
   },
   "source": [
    "Note that by using automatic differentiation in PyTorch, it is (relatively) easy to implement the true gradient method. Hint: PyTorch may complain about computing gradients for the target in [smooth_l1_loss](https://pytorch.org/docs/stable/nn.html?highlight=smooth_l1_loss#torch.nn.functional.smooth_l1_loss). How can you circumvent this problem? Implement the `train_true_gradient` method below."
   ]
  },
  {
   "cell_type": "code",
   "execution_count": 34,
   "metadata": {
    "deletable": false,
    "nbgrader": {
     "checksum": "3d1e72257ed8c59175352e163f1bfdaf",
     "grade": true,
     "grade_id": "cell-71707640573b23d1",
     "locked": false,
     "points": 1,
     "schema_version": 1,
     "solution": true
    }
   },
   "outputs": [
    {
     "ename": "NotImplementedError",
     "evalue": "",
     "output_type": "error",
     "traceback": [
      "\u001b[0;31m---------------------------------------------------------------------------\u001b[0m",
      "\u001b[0;31mNotImplementedError\u001b[0m                       Traceback (most recent call last)",
      "\u001b[0;32m<ipython-input-34-2e3498d843d1>\u001b[0m in \u001b[0;36m<module>\u001b[0;34m()\u001b[0m\n\u001b[1;32m     11\u001b[0m \u001b[0;34m\u001b[0m\u001b[0m\n\u001b[1;32m     12\u001b[0m episode_durations_true_gradient = run_episodes(\n\u001b[0;32m---> 13\u001b[0;31m     train_true_gradient, model, memory, env, num_episodes, batch_size, discount_factor, learn_rate)\n\u001b[0m\u001b[1;32m     14\u001b[0m \u001b[0;34m\u001b[0m\u001b[0m\n\u001b[1;32m     15\u001b[0m \u001b[0mplt\u001b[0m\u001b[0;34m.\u001b[0m\u001b[0mplot\u001b[0m\u001b[0;34m(\u001b[0m\u001b[0msmooth\u001b[0m\u001b[0;34m(\u001b[0m\u001b[0mepisode_durations\u001b[0m\u001b[0;34m,\u001b[0m \u001b[0;36m10\u001b[0m\u001b[0;34m)\u001b[0m\u001b[0;34m)\u001b[0m\u001b[0;34m\u001b[0m\u001b[0m\n",
      "\u001b[0;32m<ipython-input-31-0842c3039103>\u001b[0m in \u001b[0;36mrun_episodes\u001b[0;34m(train, model, memory, env, num_episodes, batch_size, discount_factor, learn_rate)\u001b[0m\n\u001b[1;32m     17\u001b[0m \u001b[0;34m\u001b[0m\u001b[0m\n\u001b[1;32m     18\u001b[0m             \u001b[0mmemory\u001b[0m\u001b[0;34m.\u001b[0m\u001b[0mpush\u001b[0m\u001b[0;34m(\u001b[0m\u001b[0;34m(\u001b[0m\u001b[0ms\u001b[0m\u001b[0;34m,\u001b[0m \u001b[0ma\u001b[0m\u001b[0;34m,\u001b[0m \u001b[0mr\u001b[0m\u001b[0;34m,\u001b[0m \u001b[0ms_next\u001b[0m\u001b[0;34m,\u001b[0m \u001b[0mdone\u001b[0m\u001b[0;34m)\u001b[0m\u001b[0;34m)\u001b[0m\u001b[0;34m\u001b[0m\u001b[0m\n\u001b[0;32m---> 19\u001b[0;31m             \u001b[0mloss\u001b[0m \u001b[0;34m=\u001b[0m \u001b[0mtrain\u001b[0m\u001b[0;34m(\u001b[0m\u001b[0mmodel\u001b[0m\u001b[0;34m,\u001b[0m \u001b[0mmemory\u001b[0m\u001b[0;34m,\u001b[0m \u001b[0moptimizer\u001b[0m\u001b[0;34m,\u001b[0m \u001b[0mbatch_size\u001b[0m\u001b[0;34m,\u001b[0m \u001b[0mdiscount_factor\u001b[0m\u001b[0;34m)\u001b[0m\u001b[0;34m\u001b[0m\u001b[0m\n\u001b[0m\u001b[1;32m     20\u001b[0m \u001b[0;34m\u001b[0m\u001b[0m\n\u001b[1;32m     21\u001b[0m             \u001b[0ms\u001b[0m \u001b[0;34m=\u001b[0m \u001b[0ms_next\u001b[0m\u001b[0;34m\u001b[0m\u001b[0m\n",
      "\u001b[0;32m<ipython-input-34-2e3498d843d1>\u001b[0m in \u001b[0;36mtrain_true_gradient\u001b[0;34m(model, memory, optimizer, batch_size, discount_factor)\u001b[0m\n\u001b[1;32m      2\u001b[0m \u001b[0;34m\u001b[0m\u001b[0m\n\u001b[1;32m      3\u001b[0m     \u001b[0;31m# YOUR CODE HERE\u001b[0m\u001b[0;34m\u001b[0m\u001b[0;34m\u001b[0m\u001b[0m\n\u001b[0;32m----> 4\u001b[0;31m     \u001b[0;32mraise\u001b[0m \u001b[0mNotImplementedError\u001b[0m\u001b[0;34m(\u001b[0m\u001b[0;34m)\u001b[0m\u001b[0;34m\u001b[0m\u001b[0m\n\u001b[0m\u001b[1;32m      5\u001b[0m \u001b[0;34m\u001b[0m\u001b[0m\n\u001b[1;32m      6\u001b[0m \u001b[0mrandom\u001b[0m\u001b[0;34m.\u001b[0m\u001b[0mseed\u001b[0m\u001b[0;34m(\u001b[0m\u001b[0mseed\u001b[0m\u001b[0;34m)\u001b[0m\u001b[0;34m\u001b[0m\u001b[0m\n",
      "\u001b[0;31mNotImplementedError\u001b[0m: "
     ]
    }
   ],
   "source": [
    "def train_true_gradient(model, memory, optimizer, batch_size, discount_factor):\n",
    "    \n",
    "    # YOUR CODE HERE\n",
    "    raise NotImplementedError()\n",
    "\n",
    "random.seed(seed)\n",
    "torch.manual_seed(seed)\n",
    "env.seed(seed)\n",
    "\n",
    "model = QNetwork(num_hidden)\n",
    "\n",
    "episode_durations_true_gradient = run_episodes(\n",
    "    train_true_gradient, model, memory, env, num_episodes, batch_size, discount_factor, learn_rate)\n",
    "\n",
    "plt.plot(smooth(episode_durations, 10))\n",
    "plt.plot(smooth(episode_durations_true_gradient, 10))\n",
    "plt.title('Episode durations per episode')\n",
    "plt.legend(['Semi-gradient', 'True gradient'])"
   ]
  },
  {
   "cell_type": "markdown",
   "metadata": {
    "deletable": false,
    "editable": false,
    "nbgrader": {
     "checksum": "95b462060bc00fccd7e8bc2ccc857215",
     "grade": false,
     "grade_id": "cell-b6fb5a1b0894fb4e",
     "locked": true,
     "schema_version": 1,
     "solution": false
    }
   },
   "source": [
    "Which algorithm performs better? Is this what you would expect? Can you explain this?\n",
    "\n",
    "Note: you may want to play around with the number of episodes to answer this question, but please reset it to 100 before handing in the notebook."
   ]
  },
  {
   "cell_type": "markdown",
   "metadata": {
    "deletable": false,
    "nbgrader": {
     "checksum": "b2e5712195d20cce7d1a6afb34e24a41",
     "grade": true,
     "grade_id": "cell-d99dae457ea5bde6",
     "locked": false,
     "points": 1,
     "schema_version": 1,
     "solution": true
    }
   },
   "source": [
    "YOUR ANSWER HERE"
   ]
  },
  {
   "cell_type": "markdown",
   "metadata": {
    "deletable": false,
    "editable": false,
    "nbgrader": {
     "checksum": "de7203182e41f55f391af5892477e89d",
     "grade": false,
     "grade_id": "cell-6607b79e73a101a9",
     "locked": true,
     "schema_version": 1,
     "solution": false
    }
   },
   "source": [
    "---\n",
    "\n",
    "## 2. Policy Gradient (8 points)"
   ]
  },
  {
   "cell_type": "markdown",
   "metadata": {
    "deletable": false,
    "editable": false,
    "nbgrader": {
     "checksum": "951b88e9cd8396d088d3f80e6da9690c",
     "grade": false,
     "grade_id": "cell-083fe71da94aa7aa",
     "locked": true,
     "schema_version": 1,
     "solution": false
    }
   },
   "source": [
    "So we have spent a lot of time working on *value based* methods. We will now switch to *policy based* methods, i.e. learn a policy directly rather than learn a value function from which the policy follows. Mention two advantages of using a policy based method."
   ]
  },
  {
   "cell_type": "markdown",
   "metadata": {
    "deletable": false,
    "nbgrader": {
     "checksum": "a5c1f505cb22eca6eb3b8213ff23e60f",
     "grade": true,
     "grade_id": "cell-134510705650d5ac",
     "locked": false,
     "points": 2,
     "schema_version": 1,
     "solution": true
    }
   },
   "source": [
    "YOUR ANSWER HERE\n",
    "\n",
    "1 **Convergence**\n",
    "\n",
    "Policy-based methods have better convergence properties.\n",
    "\n",
    "The problem with value-based methods is that they can have a big oscillation while training. This is because the choice of action may change dramatically for an arbitrarily small change in the estimated action values.\n",
    "\n",
    "On the other hand, with policy gradient, we just follow the gradient to find the best parameters. We see a smooth update of our policy at each step.\n",
    "\n",
    "Because we follow the gradient to find the best parameters, we’re guaranteed to converge on a local maximum (worst case) or global maximum (best case)\n",
    "\n",
    "2 **Policy gradients are more effective in high dimensional action spaces**\n",
    "\n",
    "The second advantage is that policy gradients are more effective in high dimensional action spaces, or when using continuous actions.\n",
    "\n",
    "The problem with Deep Q-learning is that their predictions assign a score (maximum expected future reward) for each possible action, at each time step, given the current state.For instance, with a self driving car, at each state you can have a (near) infinite choice of actions. We’ll need to output a Q-value for each possible action!"
   ]
  },
  {
   "cell_type": "markdown",
   "metadata": {
    "deletable": false,
    "editable": false,
    "nbgrader": {
     "checksum": "174629c02b62968e23fa6088c4d5763b",
     "grade": false,
     "grade_id": "cell-76a10fe31897025f",
     "locked": true,
     "schema_version": 1,
     "solution": false
    }
   },
   "source": [
    "### 2.1 Policy Network"
   ]
  },
  {
   "cell_type": "markdown",
   "metadata": {
    "deletable": false,
    "editable": false,
    "nbgrader": {
     "checksum": "2bc16b45e6145226b8a6f5117003b7f5",
     "grade": false,
     "grade_id": "cell-34f0712f792bbcca",
     "locked": true,
     "schema_version": 1,
     "solution": false
    }
   },
   "source": [
    "In order to do so, we will implement a Policy network. Although in general this does not have to be the case, we will use an architecture very similar to the Q-network (two layers with ReLU activation for the hidden layer). Since we have discrete actions, our model will output one value per action, where each value represents the (normalized!) log-probability of selecting that action. *Use the (log-)softmax activation function.*"
   ]
  },
  {
   "cell_type": "code",
   "execution_count": 35,
   "metadata": {},
   "outputs": [],
   "source": [
    "from torch.distributions import Categorical"
   ]
  },
  {
   "cell_type": "code",
   "execution_count": 36,
   "metadata": {
    "deletable": false,
    "nbgrader": {
     "checksum": "155baf230fd6deb5f6ccf93138fa3419",
     "grade": false,
     "grade_id": "cell-6a31440f9477f963",
     "locked": false,
     "schema_version": 1,
     "solution": true
    }
   },
   "outputs": [],
   "source": [
    "class PolicyNetwork(nn.Module):\n",
    "    \n",
    "    def __init__(self, num_hidden=128):\n",
    "        nn.Module.__init__(self)\n",
    "        self.l1 = nn.Linear(4, num_hidden)\n",
    "        self.l2 = nn.Linear(num_hidden, 2)\n",
    "        self.relu = nn.ReLU()\n",
    "        self.logsoftmax = nn.LogSoftmax(dim=1)\n",
    "\n",
    "    def forward(self, x):\n",
    "        # YOUR CODE HERE\n",
    "        x = self.l1(x)\n",
    "        x = self.relu(x)\n",
    "        x = self.l2(x)\n",
    "        x = self.logsoftmax(x)\n",
    "        \n",
    "        return x        "
   ]
  },
  {
   "cell_type": "code",
   "execution_count": 37,
   "metadata": {
    "deletable": false,
    "editable": false,
    "nbgrader": {
     "checksum": "3cb94e04b03fa4b663bcf38a96ef656d",
     "grade": true,
     "grade_id": "cell-9d280fe6520edc91",
     "locked": true,
     "points": 1,
     "schema_version": 1,
     "solution": false
    }
   },
   "outputs": [
    {
     "name": "stdout",
     "output_type": "stream",
     "text": [
      "tensor([[0.4578, 0.5422],\n",
      "        [0.4657, 0.5343],\n",
      "        [0.4563, 0.5437],\n",
      "        [0.4634, 0.5366],\n",
      "        [0.4564, 0.5436],\n",
      "        [0.4725, 0.5275],\n",
      "        [0.4769, 0.5231],\n",
      "        [0.4834, 0.5166],\n",
      "        [0.4797, 0.5203],\n",
      "        [0.4618, 0.5382]], grad_fn=<ExpBackward>)\n"
     ]
    }
   ],
   "source": [
    "# Let's instantiate and test if it works\n",
    "num_hidden = 128\n",
    "torch.manual_seed(1234)\n",
    "model = PolicyNetwork(num_hidden)\n",
    "\n",
    "x = torch.rand(10, 4)\n",
    "\n",
    "log_p = model(x)\n",
    "\n",
    "# Does the outcome make sense?\n",
    "print(log_p.exp())\n"
   ]
  },
  {
   "cell_type": "markdown",
   "metadata": {
    "deletable": false,
    "editable": false,
    "nbgrader": {
     "checksum": "619c714e930c0d167304597d188f229b",
     "grade": false,
     "grade_id": "cell-35294ca4eda15b11",
     "locked": true,
     "schema_version": 1,
     "solution": false
    }
   },
   "source": [
    "### 2.2 Monte Carlo REINFORCE"
   ]
  },
  {
   "cell_type": "markdown",
   "metadata": {
    "deletable": false,
    "editable": false,
    "nbgrader": {
     "checksum": "93ed9cbcf70541f5a04709ee89a16e78",
     "grade": false,
     "grade_id": "cell-44f33e587542974d",
     "locked": true,
     "schema_version": 1,
     "solution": false
    }
   },
   "source": [
    "Now we will implement the *Monte Carlo* policy gradient algorithm. Remember from lab 1 that this means that we will estimate returns for states by sample episodes. Compared to DQN, this means that we do *not* perform an update step at every environment step, but only at the end of each episode. This means that we should generate an episode of data, compute the REINFORCE loss (which requires computing the returns) and then perform a gradient step.\n",
    "\n",
    "To help you, we already implemented a few functions that you can (but do not have to) use.\n",
    "\n",
    "* You can use `torch.multinomial` to sample from a categorical distribution.\n",
    "* The REINFORCE loss is defined as $- \\sum_t \\log \\pi_\\theta(a_t|s_t) G_t$, which means that you should compute the (discounted) return $G_t$ for all $t$. Make sure that you do this in **linear time**, otherwise your algorithm will be very slow! Note the - (minus) since you want to maximize return while you want to minimize the loss.\n",
    "* Importantly, you should **normalize the returns** (not the rewards!, e.g. subtract mean and divide by standard deviation within the episode) before computing the loss, or your estimator will have very high variance."
   ]
  },
  {
   "cell_type": "code",
   "execution_count": 38,
   "metadata": {
    "deletable": false,
    "nbgrader": {
     "checksum": "3b2c75181678fed25fcc7c8b39bb7de3",
     "grade": true,
     "grade_id": "cell-3f6e32c4931392bf",
     "locked": false,
     "points": 5,
     "schema_version": 1,
     "solution": true
    }
   },
   "outputs": [],
   "source": [
    "def select_action(model, state):\n",
    "    # Samples an action according to the probability distribution induced by the model\n",
    "    # Also returns the log_probability\n",
    "    # YOUR CODE HERE\n",
    "    state = torch.tensor(state, dtype=torch.float).unsqueeze(0)\n",
    "    log_p = model(state)[0]\n",
    "    \n",
    "    m = Categorical(log_p.exp())\n",
    "    action = m.sample().squeeze(0).numpy()\n",
    "    \n",
    "    return action, log_p[action]\n",
    "\n",
    "def run_episode(env, model):\n",
    "    # YOUR CODE HERE\n",
    "    episode = []\n",
    "    s = env.reset()\n",
    "        \n",
    "    done = False\n",
    "    while not done:\n",
    "        a, log_p = select_action(model, s)\n",
    "        s_next, reward, done, _ = env.step(a)\n",
    "        \n",
    "        episode.append([s,a,reward,log_p])\n",
    "        s = s_next\n",
    "        \n",
    "    return episode\n",
    "\n",
    "def compute_reinforce_loss(episode, discount_factor):\n",
    "    # Compute the reinforce loss\n",
    "    # Make sure that your function runs in LINEAR TIME\n",
    "    # Don't forget to normalize your RETURNS (not rewards)\n",
    "    # Note that the rewards/returns should be maximized \n",
    "    # while the loss should be minimized so you need a - somewhere\n",
    "    \n",
    "    # YOUR CODE HERE\n",
    "    g = 0\n",
    "    log_probs = []\n",
    "    returns = []\n",
    "    for _, _, r, log_p in reversed(episode):\n",
    "        g = r+discount_factor*g\n",
    "        returns.append(g)\n",
    "        log_probs.append(log_p)\n",
    "    \n",
    "    returns = torch.tensor(returns)\n",
    "    returns = (returns - returns.mean())/(returns.std()+1e-8)\n",
    "    \n",
    "    loss = 0\n",
    "    for prob, r in zip(log_probs, returns):\n",
    "        loss += -prob*r\n",
    "        \n",
    "    return loss\n",
    "\n",
    "def run_episodes_policy_gradient(model, env, num_episodes, discount_factor, learn_rate):\n",
    "    \n",
    "    optimizer = optim.Adam(model.parameters(), learn_rate)\n",
    "    \n",
    "    episode_durations = []\n",
    "    for i in range(num_episodes):\n",
    "        \n",
    "        # YOUR CODE HERE\n",
    "        episode = run_episode(env, model)\n",
    "        loss = compute_reinforce_loss(episode, discount_factor)\n",
    "        \n",
    "        optimizer.zero_grad()\n",
    "        loss.backward()\n",
    "        optimizer.step()\n",
    "                           \n",
    "        if i % 10 == 0:\n",
    "            print(\"{2} Episode {0} finished after {1} steps\"\n",
    "                  .format(i, len(episode), '\\033[92m' if len(episode) >= 195 else '\\033[99m'))\n",
    "        episode_durations.append(len(episode))\n",
    "        \n",
    "    return episode_durations"
   ]
  },
  {
   "cell_type": "code",
   "execution_count": 39,
   "metadata": {},
   "outputs": [
    {
     "name": "stdout",
     "output_type": "stream",
     "text": [
      "\u001b[99m Episode 0 finished after 19 steps\n",
      "\u001b[99m Episode 10 finished after 17 steps\n",
      "\u001b[99m Episode 20 finished after 27 steps\n",
      "\u001b[99m Episode 30 finished after 34 steps\n",
      "\u001b[92m Episode 40 finished after 200 steps\n",
      "\u001b[99m Episode 50 finished after 71 steps\n",
      "\u001b[99m Episode 60 finished after 57 steps\n",
      "\u001b[99m Episode 70 finished after 33 steps\n",
      "\u001b[99m Episode 80 finished after 41 steps\n",
      "\u001b[99m Episode 90 finished after 99 steps\n",
      "\u001b[92m Episode 100 finished after 200 steps\n",
      "\u001b[92m Episode 110 finished after 200 steps\n",
      "\u001b[92m Episode 120 finished after 200 steps\n",
      "\u001b[99m Episode 130 finished after 142 steps\n",
      "\u001b[92m Episode 140 finished after 200 steps\n",
      "\u001b[92m Episode 150 finished after 200 steps\n",
      "\u001b[92m Episode 160 finished after 200 steps\n",
      "\u001b[92m Episode 170 finished after 200 steps\n",
      "\u001b[92m Episode 180 finished after 200 steps\n",
      "\u001b[99m Episode 190 finished after 185 steps\n"
     ]
    },
    {
     "data": {
      "text/plain": [
       "<matplotlib.legend.Legend at 0x7f3070cb1630>"
      ]
     },
     "execution_count": 39,
     "metadata": {},
     "output_type": "execute_result"
    },
    {
     "data": {
      "image/png": "[encoded data removed]",
      "text/plain": [
       "<Figure size 432x288 with 1 Axes>"
      ]
     },
     "metadata": {},
     "output_type": "display_data"
    }
   ],
   "source": [
    "# Feel free to play around with the parameters!\n",
    "num_episodes = 200\n",
    "discount_factor = 0.99\n",
    "learn_rate = 0.01\n",
    "seed = 42\n",
    "random.seed(seed)\n",
    "torch.manual_seed(seed)\n",
    "env.seed(seed)\n",
    "\n",
    "model = PolicyNetwork(num_hidden)\n",
    "\n",
    "episode_durations_policy_gradient = run_episodes_policy_gradient(\n",
    "    model, env, num_episodes, discount_factor, learn_rate)\n",
    "\n",
    "plt.plot(smooth(episode_durations_policy_gradient, 10))\n",
    "plt.title('Episode durations per episode')\n",
    "plt.legend(['Policy gradient'])"
   ]
  },
  {
   "cell_type": "markdown",
   "metadata": {
    "deletable": false,
    "editable": false,
    "nbgrader": {
     "checksum": "b9fe846472bc09094ba671593c4b40b4",
     "grade": false,
     "grade_id": "cell-af9c49b396393dc0",
     "locked": true,
     "schema_version": 1,
     "solution": false
    }
   },
   "source": [
    "---\n",
    "## Actor-Critic (7 points)"
   ]
  },
  {
   "cell_type": "markdown",
   "metadata": {
    "deletable": false,
    "editable": false,
    "nbgrader": {
     "checksum": "ff32c0931b08aa9a5719639105a7b3e5",
     "grade": false,
     "grade_id": "cell-7eabad968ce02adf",
     "locked": true,
     "schema_version": 1,
     "solution": false
    }
   },
   "source": [
    "We will now implement the basic Actor-Critic algorithm, which means that instead of using Monte Carlo returns, we will bootstrap (1-step) returns using a critic (state-value function), so $G_t = R_t + \\gamma V(s_{t+1})$. What happens at the end of the episode? Hint: you may find it useful to have a look at the `train` method for DQN.\n",
    "\n",
    "* Note that we now have to train an actor (policy) and a critic (value network).\n",
    "* We will do this using a single optimizer, which means that we have to sum the loss for the actor and the critic into a single loss term. \n",
    "* For the critic, use the `smooth_l1_loss` like with DQN.\n",
    "* For the actor, the loss should be the REINFORCE loss, but with two differences:\n",
    "    - Instead of the Monte Carlo return $G_t$, use the one step return $G_{t:t+1}$ where the critic is used to bootstrap the value of $s_{t+1}$.\n",
    "    - Instead of normalizing the returns (which can be viewed as using the average as baseline and then scaling), we will use the estimated value $V(s_t)$ as baseline.\n",
    "* **Important**: note that you cannot use `with torch.no_grad():` to compute the critic value (for the current state) since you need gradients to train the critic! However, when using the value to compute the actor loss, you do not want to get gradients of the critic parameters w.r.t. the actor loss (e.g. your target and baseline must be constant)! Therefore, use `v.detach()` on the output of the critic when it is used in the loss term for the actor, this will make sure the value(s) are treated as a constant and no gradients will be backpropagated."
   ]
  },
  {
   "cell_type": "code",
   "execution_count": 40,
   "metadata": {
    "deletable": false,
    "nbgrader": {
     "checksum": "3b649f137296d2c6e9ac367781f1b04e",
     "grade": true,
     "grade_id": "cell-5a7326fd2ab9349c",
     "locked": false,
     "points": 5,
     "schema_version": 1,
     "solution": true
    },
    "scrolled": false
   },
   "outputs": [
    {
     "name": "stderr",
     "output_type": "stream",
     "text": [
      "/home/tarun/anaconda3/envs/course/lib/python3.6/site-packages/numpy/core/fromnumeric.py:2957: RuntimeWarning: Mean of empty slice.\n",
      "  out=out, **kwargs)\n",
      "/home/tarun/anaconda3/envs/course/lib/python3.6/site-packages/numpy/core/_methods.py:80: RuntimeWarning: invalid value encountered in double_scalars\n",
      "  ret = ret.dtype.type(ret / rcount)\n"
     ]
    },
    {
     "name": "stdout",
     "output_type": "stream",
     "text": [
      "Step 0, finished 0 / 200 episodes, average episode duration of last 100 episodes: nan\n",
      "Step 100, finished 105 / 200 episodes, average episode duration of last 100 episodes: 14.86\n",
      "Step 200, finished 265 / 200 episodes, average episode duration of last 100 episodes: 9.53\n",
      "Step 300, finished 434 / 200 episodes, average episode duration of last 100 episodes: 9.31\n",
      "Step 400, finished 604 / 200 episodes, average episode duration of last 100 episodes: 9.43\n",
      "Step 500, finished 774 / 200 episodes, average episode duration of last 100 episodes: 9.53\n",
      "Step 600, finished 936 / 200 episodes, average episode duration of last 100 episodes: 9.77\n",
      "Step 700, finished 1033 / 200 episodes, average episode duration of last 100 episodes: 16.35\n",
      "Step 800, finished 1134 / 200 episodes, average episode duration of last 100 episodes: 13.69\n",
      "Step 900, finished 1179 / 200 episodes, average episode duration of last 100 episodes: 24.81\n",
      "Step 1000, finished 1217 / 200 episodes, average episode duration of last 100 episodes: 35.01\n",
      "Step 1100, finished 1252 / 200 episodes, average episode duration of last 100 episodes: 40.27\n",
      "Step 1200, finished 1278 / 200 episodes, average episode duration of last 100 episodes: 47.58\n",
      "Step 1300, finished 1306 / 200 episodes, average episode duration of last 100 episodes: 52.02\n",
      "Step 1400, finished 1328 / 200 episodes, average episode duration of last 100 episodes: 55.34\n",
      "Step 1500, finished 1352 / 200 episodes, average episode duration of last 100 episodes: 63.08\n",
      "Step 1600, finished 1371 / 200 episodes, average episode duration of last 100 episodes: 64.63\n",
      "Step 1700, finished 1393 / 200 episodes, average episode duration of last 100 episodes: 68.34\n",
      "Step 1800, finished 1407 / 200 episodes, average episode duration of last 100 episodes: 74.49\n",
      "Step 1900, finished 1423 / 200 episodes, average episode duration of last 100 episodes: 80.51\n",
      "Step 2000, finished 1438 / 200 episodes, average episode duration of last 100 episodes: 85.46\n",
      "Step 2100, finished 1464 / 200 episodes, average episode duration of last 100 episodes: 87.27\n",
      "Step 2200, finished 1479 / 200 episodes, average episode duration of last 100 episodes: 89.05\n",
      "Step 2300, finished 1502 / 200 episodes, average episode duration of last 100 episodes: 87.6\n",
      "Step 2400, finished 1519 / 200 episodes, average episode duration of last 100 episodes: 84.12\n",
      "Step 2500, finished 1529 / 200 episodes, average episode duration of last 100 episodes: 86.46\n",
      "Step 2600, finished 1539 / 200 episodes, average episode duration of last 100 episodes: 92.83\n",
      "Step 2700, finished 1547 / 200 episodes, average episode duration of last 100 episodes: 97.29\n",
      "Step 2800, finished 1558 / 200 episodes, average episode duration of last 100 episodes: 106.98\n",
      "Step 2900, finished 1574 / 200 episodes, average episode duration of last 100 episodes: 117.46\n",
      "Step 3000, finished 1580 / 200 episodes, average episode duration of last 100 episodes: 119.2\n",
      "Step 3100, finished 1590 / 200 episodes, average episode duration of last 100 episodes: 131.44\n",
      "Step 3200, finished 1596 / 200 episodes, average episode duration of last 100 episodes: 139.51\n",
      "Step 3300, finished 1606 / 200 episodes, average episode duration of last 100 episodes: 149.71\n",
      "Step 3400, finished 1618 / 200 episodes, average episode duration of last 100 episodes: 159.77\n",
      "Step 3500, finished 1624 / 200 episodes, average episode duration of last 100 episodes: 163.59\n",
      "Step 3600, finished 1634 / 200 episodes, average episode duration of last 100 episodes: 170.08\n",
      "Step 3700, finished 1640 / 200 episodes, average episode duration of last 100 episodes: 172.02\n",
      "Step 3800, finished 1650 / 200 episodes, average episode duration of last 100 episodes: 174.95\n",
      "Step 3900, finished 1656 / 200 episodes, average episode duration of last 100 episodes: 178.4\n",
      "Step 4000, finished 1666 / 200 episodes, average episode duration of last 100 episodes: 184.24\n",
      "Step 4100, finished 1678 / 200 episodes, average episode duration of last 100 episodes: 185.85\n",
      "Step 4200, finished 1682 / 200 episodes, average episode duration of last 100 episodes: 186.62\n",
      "Step 4300, finished 1694 / 200 episodes, average episode duration of last 100 episodes: 187.0\n",
      "Step 4400, finished 1698 / 200 episodes, average episode duration of last 100 episodes: 187.0\n",
      "Step 4500, finished 1710 / 200 episodes, average episode duration of last 100 episodes: 187.0\n",
      "Step 4600, finished 1714 / 200 episodes, average episode duration of last 100 episodes: 189.03\n",
      "Step 4700, finished 1726 / 200 episodes, average episode duration of last 100 episodes: 193.49\n",
      "Step 4800, finished 1730 / 200 episodes, average episode duration of last 100 episodes: 193.62\n",
      "Step 4900, finished 1742 / 200 episodes, average episode duration of last 100 episodes: 193.62\n",
      "Step 5000, finished 1746 / 200 episodes, average episode duration of last 100 episodes: 193.62\n",
      "Step 5100, finished 1758 / 200 episodes, average episode duration of last 100 episodes: 193.62\n",
      "Step 5200, finished 1762 / 200 episodes, average episode duration of last 100 episodes: 193.62\n",
      "Step 5300, finished 1774 / 200 episodes, average episode duration of last 100 episodes: 196.84\n",
      "Step 5400, finished 1778 / 200 episodes, average episode duration of last 100 episodes: 199.99\n",
      "Step 5500, finished 1790 / 200 episodes, average episode duration of last 100 episodes: 199.99\n",
      "Step 5600, finished 1794 / 200 episodes, average episode duration of last 100 episodes: 199.99\n",
      "Step 5700, finished 1806 / 200 episodes, average episode duration of last 100 episodes: 200.0\n",
      "Step 5800, finished 1810 / 200 episodes, average episode duration of last 100 episodes: 200.0\n",
      "Step 5900, finished 1822 / 200 episodes, average episode duration of last 100 episodes: 200.0\n",
      "Step 6000, finished 1826 / 200 episodes, average episode duration of last 100 episodes: 200.0\n",
      "Step 6100, finished 1838 / 200 episodes, average episode duration of last 100 episodes: 200.0\n",
      "Step 6200, finished 1842 / 200 episodes, average episode duration of last 100 episodes: 200.0\n",
      "Step 6300, finished 1854 / 200 episodes, average episode duration of last 100 episodes: 199.99\n",
      "Step 6400, finished 1858 / 200 episodes, average episode duration of last 100 episodes: 199.99\n",
      "Step 6500, finished 1870 / 200 episodes, average episode duration of last 100 episodes: 199.33\n",
      "Step 6600, finished 1874 / 200 episodes, average episode duration of last 100 episodes: 199.33\n",
      "Step 6700, finished 1886 / 200 episodes, average episode duration of last 100 episodes: 199.33\n",
      "Step 6800, finished 1890 / 200 episodes, average episode duration of last 100 episodes: 199.33\n",
      "Step 6900, finished 1902 / 200 episodes, average episode duration of last 100 episodes: 199.33\n",
      "Step 7000, finished 1906 / 200 episodes, average episode duration of last 100 episodes: 199.33\n",
      "Step 7100, finished 1918 / 200 episodes, average episode duration of last 100 episodes: 199.22\n",
      "Step 7200, finished 1922 / 200 episodes, average episode duration of last 100 episodes: 199.22\n",
      "Step 7300, finished 1934 / 200 episodes, average episode duration of last 100 episodes: 199.22\n",
      "Step 7400, finished 1938 / 200 episodes, average episode duration of last 100 episodes: 199.22\n",
      "Step 7500, finished 1950 / 200 episodes, average episode duration of last 100 episodes: 199.23\n",
      "Step 7600, finished 1954 / 200 episodes, average episode duration of last 100 episodes: 199.23\n",
      "Step 7700, finished 1966 / 200 episodes, average episode duration of last 100 episodes: 199.89\n",
      "Step 7800, finished 1970 / 200 episodes, average episode duration of last 100 episodes: 199.89\n",
      "Step 7900, finished 1982 / 200 episodes, average episode duration of last 100 episodes: 199.89\n",
      "Step 8000, finished 1986 / 200 episodes, average episode duration of last 100 episodes: 199.89\n",
      "Step 8100, finished 1998 / 200 episodes, average episode duration of last 100 episodes: 199.72\n",
      "Step 8200, finished 2002 / 200 episodes, average episode duration of last 100 episodes: 199.49\n",
      "Step 8300, finished 2014 / 200 episodes, average episode duration of last 100 episodes: 199.49\n",
      "Step 8400, finished 2018 / 200 episodes, average episode duration of last 100 episodes: 199.6\n",
      "Step 8500, finished 2030 / 200 episodes, average episode duration of last 100 episodes: 199.6\n",
      "Step 8600, finished 2034 / 200 episodes, average episode duration of last 100 episodes: 199.6\n",
      "Step 8700, finished 2046 / 200 episodes, average episode duration of last 100 episodes: 199.6\n"
     ]
    },
    {
     "name": "stdout",
     "output_type": "stream",
     "text": [
      "Step 8800, finished 2050 / 200 episodes, average episode duration of last 100 episodes: 199.6\n",
      "Step 8900, finished 2062 / 200 episodes, average episode duration of last 100 episodes: 199.6\n",
      "Step 9000, finished 2067 / 200 episodes, average episode duration of last 100 episodes: 198.48\n",
      "Step 9100, finished 2078 / 200 episodes, average episode duration of last 100 episodes: 198.05\n",
      "Step 9200, finished 2083 / 200 episodes, average episode duration of last 100 episodes: 198.05\n",
      "Step 9300, finished 2094 / 200 episodes, average episode duration of last 100 episodes: 198.05\n",
      "Step 9400, finished 2099 / 200 episodes, average episode duration of last 100 episodes: 198.22\n",
      "Step 9500, finished 2110 / 200 episodes, average episode duration of last 100 episodes: 198.45\n",
      "Step 9600, finished 2115 / 200 episodes, average episode duration of last 100 episodes: 198.45\n",
      "Step 9700, finished 2126 / 200 episodes, average episode duration of last 100 episodes: 198.45\n",
      "Step 9800, finished 2131 / 200 episodes, average episode duration of last 100 episodes: 198.45\n",
      "Step 9900, finished 2143 / 200 episodes, average episode duration of last 100 episodes: 197.36\n"
     ]
    }
   ],
   "source": [
    "class ValueNetwork(nn.Module):\n",
    "    \n",
    "    def __init__(self, num_hidden=128):\n",
    "        nn.Module.__init__(self)\n",
    "        # YOUR CODE HERE\n",
    "        self.l1 = nn.Linear(4,num_hidden)\n",
    "        self.l2 = nn.Linear(num_hidden,1)\n",
    "        self.relu = nn.ReLU()\n",
    "\n",
    "    def forward(self, x):\n",
    "        # YOUR CODE HERE\n",
    "        x = self.l1(x)\n",
    "        x = self.relu(x)\n",
    "        x = self.l2(x)\n",
    "        \n",
    "        return x\n",
    "\n",
    "def select_action(model, state):\n",
    "    # Samples an action according to the probability distribution induced by the model\n",
    "    # Also returns the log_probability\n",
    "    # YOUR CODE HERE\n",
    "    log_prob = model(state)\n",
    "    \n",
    "    m = Categorical(log_prob.exp())\n",
    "    action = m.sample()\n",
    "    \n",
    "    log_p = log_prob.gather(1, action.unsqueeze(1)).squeeze(1)\n",
    "    \n",
    "    # action and log_p should be a 1 dimensional vector\n",
    "    n = len(state)\n",
    "    assert action.size() == (n, )\n",
    "    assert log_p.size() == (n, )\n",
    "    return action, log_p\n",
    "\n",
    "def train_actor_critic(actor, critic, optimizer, log_ps, state, reward, next_state, done, discount_factor):\n",
    "    \n",
    "    # YOUR CODE HERE\n",
    "    # critic\n",
    "    non_terminal_states_mask = torch.tensor([1 if not s else 0 for s in done])\n",
    "    non_terminal_states = next_state[non_terminal_states_mask.nonzero().squeeze(1)]\n",
    "    \n",
    "    next_state_values = torch.zeros(done.size()[0])\n",
    "    next_state_values[non_terminal_states_mask.nonzero().squeeze(1)] = critic(non_terminal_states).squeeze(1)\n",
    "\n",
    "    target = reward + discount_factor*next_state_values\n",
    "   \n",
    "    v_s = critic(state).squeeze(1)\n",
    "    \n",
    "    value_loss = F.smooth_l1_loss(v_s,target.detach())\n",
    "    \n",
    "    # actor\n",
    "    actor_loss = torch.sum(-log_ps*(target.detach() - v_s.detach()))\n",
    "    \n",
    "    # The loss is composed of the value_loss (for the critic) and the actor_loss\n",
    "    loss = value_loss + actor_loss\n",
    "\n",
    "    # backpropagation of loss to Neural Network (PyTorch magic)\n",
    "    optimizer.zero_grad()\n",
    "    loss.backward()\n",
    "    optimizer.step()\n",
    "    \n",
    "    return loss.item(), value_loss.item(), actor_loss.item()  # Returns a Python scalar, and releases history (similar to .detach())\n",
    "\n",
    "def run_episodes_actor_critic(actor, critic, envs, max_episodes, max_steps, discount_factor, actor_learn_rate, critic_learn_rate):\n",
    "    \n",
    "    # We can use a single optimizer for both the actor and the critic, even with separate learn rates\n",
    "    optimizer = optim.Adam([\n",
    "        {'params': actor.parameters(), 'lr': actor_learn_rate},\n",
    "        {'params': critic.parameters(), 'lr': critic_learn_rate}\n",
    "    ])\n",
    "    \n",
    "    episode_durations = []\n",
    "    state = torch.tensor([env.reset() for env in envs], dtype=torch.float)\n",
    "    current_episode_lengths = torch.zeros(len(envs), dtype=torch.int64)\n",
    "    step_losses = []  # Keep track of losses for plotting\n",
    "    for i in range(max_steps):\n",
    "        \n",
    "        if i % 100 == 0:\n",
    "            print(f\"Step {i}, finished {len(episode_durations)} / {num_episodes} episodes, average episode duration of last 100 episodes: {np.mean(episode_durations[-100:])}\")\n",
    "        \n",
    "        action, log_ps = select_action(actor, state)\n",
    "        next_state, reward, done, _ = zip(*[env.step(a.item()) for env, a in zip(envs, action)])\n",
    "        \n",
    "        next_state = torch.tensor(next_state, dtype=torch.float)\n",
    "        reward = torch.tensor(reward, dtype=torch.float)\n",
    "        done = torch.tensor(done, dtype=torch.uint8)  # Boolean\n",
    "        current_episode_lengths += 1\n",
    "        \n",
    "        losses = train_actor_critic(actor, critic, optimizer, log_ps, state, reward, next_state, done, discount_factor)\n",
    "        \n",
    "        step_losses.append(losses)\n",
    "        \n",
    "        # Reset envs that are done\n",
    "        next_state = torch.tensor([\n",
    "            env.reset() if d else s.tolist()\n",
    "            for env, s, d in zip(envs, next_state, done)\n",
    "        ], dtype=torch.float)\n",
    "        \n",
    "        episode_durations.extend(current_episode_lengths[done])\n",
    "        current_episode_lengths[done] = 0  # PyTorch can also work in place\n",
    "        \n",
    "        state = next_state\n",
    "        \n",
    "        # Check if we have finished sufficiently many episodes\n",
    "        if len(episode_durations) >= max_episodes:\n",
    "            break\n",
    "        \n",
    "    return episode_durations[:max_episodes], step_losses  # In case we want exactly num_episodes returned\n",
    "\n",
    "\n",
    "num_envs = 16\n",
    "max_steps = 10000\n",
    "max_episodes = 10000\n",
    "discount_factor = 0.8\n",
    "lr_actor = 1e-3\n",
    "lr_critic = 1e-3\n",
    "seed = 42\n",
    "\n",
    "actor = PolicyNetwork(num_hidden)\n",
    "critic = ValueNetwork(num_hidden)\n",
    "\n",
    "envs = [gym.envs.make(\"CartPole-v0\") for i in range(num_envs)]\n",
    "\n",
    "for i, env in enumerate(envs):\n",
    "    env.seed(seed + i)\n",
    "torch.manual_seed(seed)\n",
    "\n",
    "episode_durations, step_losses = run_episodes_actor_critic(actor, critic, envs, max_episodes, max_steps, discount_factor, lr_actor, lr_critic)"
   ]
  },
  {
   "cell_type": "markdown",
   "metadata": {},
   "source": [
    "None: Running it 2nd time gives better result than first time. We couldn't figure out why."
   ]
  },
  {
   "cell_type": "code",
   "execution_count": 41,
   "metadata": {},
   "outputs": [
    {
     "data": {
      "image/png": "[encoded data removed]",
      "text/plain": [
       "<Figure size 432x288 with 1 Axes>"
      ]
     },
     "metadata": {},
     "output_type": "display_data"
    },
    {
     "data": {
      "image/png": "[encoded data removed]",
      "text/plain": [
       "<Figure size 432x288 with 1 Axes>"
      ]
     },
     "metadata": {},
     "output_type": "display_data"
    },
    {
     "data": {
      "image/png": "[encoded data removed]",
      "text/plain": [
       "<Figure size 432x288 with 1 Axes>"
      ]
     },
     "metadata": {},
     "output_type": "display_data"
    }
   ],
   "source": [
    "plt.plot(smooth(episode_durations, 100))\n",
    "plt.title('Episode durations')\n",
    "plt.show()\n",
    "loss, v_loss, a_loss = zip(*step_losses)\n",
    "\n",
    "plt.plot(smooth(v_loss, 100))\n",
    "plt.title('Value loss')\n",
    "plt.show()\n",
    "plt.plot(smooth(a_loss, 100))\n",
    "plt.title('Actor loss')\n",
    "plt.show()"
   ]
  },
  {
   "cell_type": "markdown",
   "metadata": {
    "deletable": false,
    "editable": false,
    "nbgrader": {
     "checksum": "de8c4cba2ebd1a8bba2236f92a0b550c",
     "grade": false,
     "grade_id": "cell-8d15d4c9c0310bec",
     "locked": true,
     "schema_version": 1,
     "solution": false
    }
   },
   "source": [
    "What is the difficulty of training AC algorithms? What could you try to do to overcome these difficulties? Hint: look at some online implementations."
   ]
  },
  {
   "cell_type": "markdown",
   "metadata": {
    "deletable": false,
    "nbgrader": {
     "checksum": "1e51e82a7730101dfd07b2f0e470d1b4",
     "grade": true,
     "grade_id": "cell-f68c6134a9df40b9",
     "locked": false,
     "points": 2,
     "schema_version": 1,
     "solution": true
    }
   },
   "source": [
    "YOUR ANSWER HERE\n",
    "\n",
    "In actor critic algorithms, we are improving both the actor as well as critic. The critic updates the value function parameters to have better estmatims of how good it is for an agent to be in a state, whereas critic updates the policy parameters for choosing better actions in the direction suggested by the critic, and move towards a better state. This creates a dependency between both the models, and changing parameters of one model effects a lot on the other or vice versa. To minimize such an ripple effect, few approaches has be explored where multiple agents explores simultaneously and updates the parameter by averaging over the total  change, reducing the variance."
   ]
  },
  {
   "cell_type": "markdown",
   "metadata": {
    "deletable": false,
    "editable": false,
    "nbgrader": {
     "checksum": "5947c1e643f533003715ae8da659af9e",
     "grade": false,
     "grade_id": "cell-ad1138b69e6728a0",
     "locked": true,
     "schema_version": 1,
     "solution": false
    }
   },
   "source": [
    "## Deep Reinforcement Learning (5 bonus points)\n",
    "Note that so far we used the state variables as input. However, the true power of Deep Learning is that we can directly learn from raw inputs, e.g. we can learn to balance the cart pole *by just looking at the screen*. This probably means that you need a deep(er) (convolutional) network, as well as tweaking some parameters, running for more iterations (perhaps on GPU) and do other tricks to stabilize learning. Can you get this to work? This will earn you bonus points!\n",
    "\n",
    "Hints:\n",
    "* You may want to use [Google Colab](https://colab.research.google.com/) such that you can benefit from GPU acceleration.\n",
    "* Even if you don't use Colab, save the weights of your final model and load it in the code here (see example below). Hand in the model file with the .ipynb in a .zip. We likely won't be able to run your training code during grading!\n",
    "* To run the code below, you need to install `torchvision`, for this uncomment the two lines in the cell below or run the command in a terminal. Note: you may need to restart the terminal after installing.\n",
    "* Preprocessing is already done for you, and the observation is the difference between two consequtive frames such that the model can 'see' (angular) speed from a single image. Now do you see why we (sometimes) use the word observation (and not state)?"
   ]
  },
  {
   "cell_type": "code",
   "execution_count": 42,
   "metadata": {},
   "outputs": [],
   "source": [
    "# %%bash\n",
    "# conda install torchvision -c pytorch"
   ]
  },
  {
   "cell_type": "code",
   "execution_count": 43,
   "metadata": {
    "deletable": false,
    "editable": false,
    "nbgrader": {
     "checksum": "f660e1484fe2bf60d66467326eacb1ba",
     "grade": false,
     "grade_id": "cell-9c9dfa80827c5680",
     "locked": true,
     "schema_version": 1,
     "solution": false
    }
   },
   "outputs": [
    {
     "data": {
      "image/png": "[encoded data removed]",
      "text/plain": [
       "<Figure size 432x288 with 1 Axes>"
      ]
     },
     "metadata": {},
     "output_type": "display_data"
    },
    {
     "data": {
      "image/png": "[encoded data removed]",
      "text/plain": [
       "<Figure size 432x288 with 1 Axes>"
      ]
     },
     "metadata": {},
     "output_type": "display_data"
    }
   ],
   "source": [
    "import torchvision.transforms as T\n",
    "from PIL import Image\n",
    "\n",
    "\n",
    "resize = T.Compose([T.ToPILImage(),\n",
    "                    T.Resize(40, interpolation=Image.CUBIC),\n",
    "                    T.ToTensor()])\n",
    "\n",
    "class CartPoleRawEnv(gym.Env):\n",
    "    \n",
    "    def __init__(self, *args, **kwargs):\n",
    "        self._env = gym.make('CartPole-v0', *args, **kwargs)  #.unwrapped\n",
    "        self.action_space = self._env.action_space\n",
    "        screen_height, screen_width = 40, 80  # TODO\n",
    "        self.observation_space = gym.spaces.Box(\n",
    "            low=0, high=255, \n",
    "            shape=(screen_height, screen_width, 3), dtype=np.uint8)\n",
    "    \n",
    "    def seed(self, seed=None):\n",
    "        return self._env.seed(seed)\n",
    "    \n",
    "    def reset(self):\n",
    "        s = self._env.reset()\n",
    "        self.prev_screen = self.screen = self.get_screen()\n",
    "        return self._get_observation()\n",
    "    \n",
    "    def step(self, action):\n",
    "        s, r, done, info = self._env.step(action)\n",
    "        self.prev_screen = self.screen\n",
    "        self.screen = self.get_screen()\n",
    "        return self._get_observation(), r, done, info\n",
    "    \n",
    "    def _get_observation(self):\n",
    "        return self.screen - self.prev_screen\n",
    "    \n",
    "    def _get_cart_location(self, screen_width):\n",
    "        _env = self._env.unwrapped\n",
    "        world_width = _env.x_threshold * 2\n",
    "        scale = screen_width / world_width\n",
    "        return int(_env.state[0] * scale + screen_width / 2.0)  # MIDDLE OF CART\n",
    "\n",
    "    def get_screen(self):\n",
    "        screen = self._env.unwrapped.render(mode='rgb_array').transpose(\n",
    "            (2, 0, 1))  # transpose into torch order (CHW)\n",
    "        # Strip off the top and bottom of the screen\n",
    "        _, screen_height, screen_width = screen.shape\n",
    "        screen = screen[:, screen_height * 4 // 10:screen_height * 8 // 10]\n",
    "        view_width = screen_height * 8 // 10\n",
    "        cart_location = self._get_cart_location(screen_width)\n",
    "        if cart_location < view_width // 2:\n",
    "            slice_range = slice(view_width)\n",
    "        elif cart_location > (screen_width - view_width // 2):\n",
    "            slice_range = slice(-view_width, None)\n",
    "        else:\n",
    "            slice_range = slice(cart_location - view_width // 2,\n",
    "                                cart_location + view_width // 2)\n",
    "        # Strip off the edges, so that we have a square image centered on a cart\n",
    "        screen = screen[:, :, slice_range]\n",
    "        # Convert to float, rescare, convert to torch tensor\n",
    "        # (this doesn't require a copy)\n",
    "        screen = np.ascontiguousarray(screen, dtype=np.float32) / 255\n",
    "        screen = torch.from_numpy(screen)\n",
    "        # Resize, and add a batch dimension (BCHW)\n",
    "        #return screen.unsqueeze(0).to(device)\n",
    "        return resize(screen).unsqueeze(0)\n",
    "    \n",
    "    def close(self):\n",
    "        return self._env.close()\n",
    "\n",
    "raw_env = CartPoleRawEnv()\n",
    "s = raw_env.reset()\n",
    "\n",
    "# \n",
    "s, r, done, _ = raw_env.step(env.action_space.sample())\n",
    "\n",
    "raw_env.reset()\n",
    "plt.figure()\n",
    "plt.imshow(raw_env.get_screen().cpu().squeeze(0).permute(1, 2, 0).numpy(),\n",
    "           interpolation='none')\n",
    "plt.title('Example extracted screen')\n",
    "plt.show()\n",
    "\n",
    "# Observations are (-1, 1) while we need to plot (0, 1) so show (rgb + 1) / 2\n",
    "plt.figure()\n",
    "plt.imshow((s.cpu().squeeze(0).permute(1, 2, 0).numpy() + 1) / 2,\n",
    "           interpolation='none')\n",
    "plt.title('Example observation')\n",
    "plt.show()\n",
    "raw_env.close()"
   ]
  },
  {
   "cell_type": "code",
   "execution_count": 44,
   "metadata": {},
   "outputs": [
    {
     "name": "stdout",
     "output_type": "stream",
     "text": [
      "cpu\n"
     ]
    }
   ],
   "source": [
    "device = torch.device(\"cuda\" if torch.cuda.is_available() else \"cpu\")\n",
    "print(device)\n",
    "# device = torch.device(\"cpu\")"
   ]
  },
  {
   "cell_type": "code",
   "execution_count": 45,
   "metadata": {
    "scrolled": true
   },
   "outputs": [
    {
     "name": "stdout",
     "output_type": "stream",
     "text": [
      "Loading weights from weights.pt\n"
     ]
    }
   ],
   "source": [
    "# Maybe you should make it a bit deeper?\n",
    "class DeepPolicy(nn.Module):\n",
    "    def __init__(self):\n",
    "        nn.Module.__init__(self)\n",
    "        self.conv1 = nn.Conv2d(3,16,kernel_size=5,stride=2)\n",
    "        self.conv2 = nn.Conv2d(16,32,kernel_size=5,stride=2)\n",
    "        self.conv3 = nn.Conv2d(32,32,kernel_size=5,stride=2)\n",
    "        \n",
    "        self.bn1 = nn.BatchNorm2d(16)\n",
    "        self.bn2 = nn.BatchNorm2d(32)\n",
    "        self.bn3 = nn.BatchNorm2d(32)\n",
    "        \n",
    "        self.relu = nn.ReLU()\n",
    "        self.l1 = nn.Linear(448,2)\n",
    "        \n",
    "        \n",
    "    def forward(self, x):\n",
    "        # Flatten\n",
    "        x = self.relu(self.bn1(self.conv1(x)))\n",
    "        x = self.relu(self.bn2(self.conv2(x)))\n",
    "        x = self.relu(self.bn3(self.conv3(x)))\n",
    "\n",
    "        return F.log_softmax(self.l1(x.view(x.size(0), -1)), -1)\n",
    "\n",
    "    \n",
    "\n",
    "policy = DeepPolicy().to(device)\n",
    "# policy = DeepPolicy()\n",
    "filename = 'weights.pt'\n",
    "\n",
    "def select_action_b(model, state, device):\n",
    "    # Samples an action according to the probability distribution induced by the model\n",
    "    # Also returns the log_probability\n",
    "    # YOUR CODE HERE\n",
    "    state = torch.tensor(state, dtype=torch.float).to(device)\n",
    "    log_p = model(state)\n",
    "\n",
    "    action = log_p.exp().multinomial(1)[:, 0]\n",
    "    return action, log_p[:,action]\n",
    "\n",
    "def compute_reinforce_loss_b(episode, discount_factor, device):   \n",
    "    # YOUR CODE HERE\n",
    "    g = 0\n",
    "    log_probs = []\n",
    "    returns = []\n",
    "    for _, _, r, log_p in reversed(episode):\n",
    "        g = r+discount_factor*g\n",
    "        returns.append(g)\n",
    "        log_probs.append(log_p)\n",
    "    \n",
    "    returns = torch.tensor(returns).to(device)\n",
    "    returns = (returns - returns.mean())/(returns.std()+1e-8)\n",
    "    \n",
    "    loss = 0\n",
    "    for prob, r in zip(log_probs, returns):\n",
    "        prob = prob.to(device)\n",
    "        loss += -prob*r\n",
    "        \n",
    "    return loss\n",
    "\n",
    "if os.path.isfile(filename):\n",
    "    print(f\"Loading weights from {filename}\")\n",
    "    #weights = torch.load(filename)\n",
    "    weights = torch.load(filename, map_location=lambda storage, loc: storage)\n",
    "    policy.load_state_dict(weights['policy'])\n",
    "    \n",
    "else:\n",
    "    # Train    \n",
    "    ### TODO some training here, maybe? Or run this on a different machine?\n",
    "    torch.manual_seed(42)\n",
    "    num_of_episodes = 200\n",
    "    learn_rate = 1e-3\n",
    "    \n",
    "    optimizer = optim.Adam(policy.parameters(), learn_rate)\n",
    "\n",
    "    for i in range(num_of_episodes):\n",
    "        episode = []\n",
    "        s = raw_env.reset()\n",
    "\n",
    "        done = False\n",
    "        while not done:\n",
    "            a, log_p = select_action_b(policy, s, device)\n",
    "            s_next, reward, done, _ = raw_env.step(a.cpu().item())\n",
    "\n",
    "            episode.append([s,a,reward,log_p])\n",
    "            s = s_next\n",
    "\n",
    "        loss = compute_reinforce_loss_b(episode, discount_factor, device)\n",
    "        \n",
    "        optimizer.zero_grad()\n",
    "        loss.backward()\n",
    "        optimizer.step()\n",
    "        \n",
    "        print(\"loss: \",loss.item(),\",i: \",i)\n",
    "        print(\"{2} Episode {0} finished after {1} steps\"\n",
    "            .format(i, len(episode), '\\033[92m' if len(episode) >= 195 else '\\033[99m'))\n",
    "    \n",
    "    print(f\"Saving weights to {filename}\")\n",
    "    torch.save({\n",
    "        # You can add more here if you need, e.g. critic\n",
    "        'policy': policy.state_dict()  # Always save weights rather than objects\n",
    "    },\n",
    "    filename)\n",
    "    \n",
    "def bonus_get_action(x):\n",
    "    return policy(x).exp().multinomial(1)[:, 0]"
   ]
  },
  {
   "cell_type": "code",
   "execution_count": 46,
   "metadata": {},
   "outputs": [
    {
     "data": {
      "text/plain": [
       "DeepPolicy(\n",
       "  (conv1): Conv2d(3, 16, kernel_size=(5, 5), stride=(2, 2))\n",
       "  (conv2): Conv2d(16, 32, kernel_size=(5, 5), stride=(2, 2))\n",
       "  (conv3): Conv2d(32, 32, kernel_size=(5, 5), stride=(2, 2))\n",
       "  (bn1): BatchNorm2d(16, eps=1e-05, momentum=0.1, affine=True, track_running_stats=True)\n",
       "  (bn2): BatchNorm2d(32, eps=1e-05, momentum=0.1, affine=True, track_running_stats=True)\n",
       "  (bn3): BatchNorm2d(32, eps=1e-05, momentum=0.1, affine=True, track_running_stats=True)\n",
       "  (relu): ReLU()\n",
       "  (l1): Linear(in_features=448, out_features=2, bias=True)\n",
       ")"
      ]
     },
     "execution_count": 46,
     "metadata": {},
     "output_type": "execute_result"
    }
   ],
   "source": [
    "device = torch.device(\"cpu\")\n",
    "policy.to(device)"
   ]
  },
  {
   "cell_type": "markdown",
   "metadata": {},
   "source": [
    "**We have used smoothing of 10 instead of 100. So run the last cell**"
   ]
  },
  {
   "cell_type": "code",
   "execution_count": 47,
   "metadata": {
    "deletable": false,
    "editable": false,
    "nbgrader": {
     "checksum": "b800bfb91f987f14e0c35bc0c41d538b",
     "grade": true,
     "grade_id": "cell-0d7bd58a23fdfabb",
     "locked": true,
     "points": 5,
     "schema_version": 1,
     "solution": false
    }
   },
   "outputs": [
    {
     "data": {
      "image/png": "[encoded data removed]",
      "text/plain": [
       "<Figure size 432x288 with 1 Axes>"
      ]
     },
     "metadata": {},
     "output_type": "display_data"
    }
   ],
   "source": [
    "seed = 42\n",
    "episode_durations = []\n",
    "for i in range(20):  # Not too many since it may take forever to render\n",
    "    test_env = CartPoleRawEnv()\n",
    "    test_env.seed(seed + i)\n",
    "    state = test_env.reset()\n",
    "    done = False\n",
    "    steps = 0\n",
    "    while not done:\n",
    "        steps += 1\n",
    "        with torch.no_grad():\n",
    "            action = bonus_get_action(state).item()\n",
    "        state, reward, done, _ = test_env.step(action)\n",
    "    episode_durations.append(steps)\n",
    "    test_env.close()\n",
    "    \n",
    "plt.plot(smooth(episode_durations, 100))\n",
    "plt.title('Episode durations')\n",
    "plt.show()\n"
   ]
  },
  {
   "cell_type": "code",
   "execution_count": 48,
   "metadata": {},
   "outputs": [
    {
     "name": "stdout",
     "output_type": "stream",
     "text": [
      "[122, 86, 120, 98, 121, 57, 154, 22, 106, 112, 125, 120, 102, 66, 141, 140, 141, 140, 132, 112]\n"
     ]
    },
    {
     "data": {
      "image/png": "[encoded data removed]",
      "text/plain": [
       "<Figure size 432x288 with 1 Axes>"
      ]
     },
     "metadata": {},
     "output_type": "display_data"
    }
   ],
   "source": [
    "seed = 42\n",
    "episode_durations = []\n",
    "for i in range(20):  # Not too many since it may take forever to render\n",
    "    test_env = CartPoleRawEnv()\n",
    "    test_env.seed(seed + i)\n",
    "    state = test_env.reset()\n",
    "    done = False\n",
    "    steps = 0\n",
    "    while not done:\n",
    "        steps += 1\n",
    "        with torch.no_grad():\n",
    "            action = bonus_get_action(state).item()\n",
    "        state, reward, done, _ = test_env.step(action)\n",
    "    episode_durations.append(steps)\n",
    "    test_env.close()\n",
    "\n",
    "print(episode_durations)\n",
    "plt.plot(smooth(episode_durations, 10))\n",
    "plt.title('Episode durations')\n",
    "plt.show()"
   ]
  },
  {
   "cell_type": "code",
   "execution_count": null,
   "metadata": {},
   "outputs": [],
   "source": []
  }
 ],
 "metadata": {
  "kernelspec": {
   "display_name": "Python 3",
   "language": "python",
   "name": "python3"
  },
  "language_info": {
   "codemirror_mode": {
    "name": "ipython",
    "version": 3
   },
   "file_extension": ".py",
   "mimetype": "text/x-python",
   "name": "python",
   "nbconvert_exporter": "python",
   "pygments_lexer": "ipython3",
   "version": "3.6.6"
  }
 },
 "nbformat": 4,
 "nbformat_minor": 2
}
